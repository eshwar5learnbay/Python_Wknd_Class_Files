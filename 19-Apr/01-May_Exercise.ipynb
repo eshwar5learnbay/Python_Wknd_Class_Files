{
 "cells": [
  {
   "cell_type": "code",
   "execution_count": 3,
   "metadata": {},
   "outputs": [
    {
     "name": "stdout",
     "output_type": "stream",
     "text": [
      "<class 'list'>\n",
      "<class 'tuple'>\n",
      "<class 'tuple'>\n",
      "<class 'dict'>\n",
      "{1: 3}\n"
     ]
    }
   ],
   "source": [
    "#Anything within square bracket is list\n",
    "#Anything within round bracket is tuple\n",
    "#Anything within curly bracket is set\n",
    "#Combination of key-value pair is dic\n",
    "\n",
    "a= [1,1.2,\"abc\"]\n",
    "b=(1,1.2,\"abc\")\n",
    "c= {1,2}\n",
    "d={1:2, 1:3}\n",
    "\n",
    "print(type(a))\n",
    "print(type(b))\n",
    "print(type(b))\n",
    "print(type(d))\n",
    "\n",
    "print(d)"
   ]
  },
  {
   "cell_type": "code",
   "execution_count": null,
   "metadata": {},
   "outputs": [],
   "source": []
  }
 ],
 "metadata": {
  "kernelspec": {
   "display_name": "Python 3",
   "language": "python",
   "name": "python3"
  },
  "language_info": {
   "codemirror_mode": {
    "name": "ipython",
    "version": 3
   },
   "file_extension": ".py",
   "mimetype": "text/x-python",
   "name": "python",
   "nbconvert_exporter": "python",
   "pygments_lexer": "ipython3",
   "version": "3.8.5"
  }
 },
 "nbformat": 4,
 "nbformat_minor": 4
}
